{
 "cells": [
  {
   "cell_type": "markdown",
   "id": "6a142e01",
   "metadata": {},
   "source": [
    "# My Jupyter Notebook on IBM Watson Studio"
   ]
  },
  {
   "cell_type": "markdown",
   "id": "3e92a4c3",
   "metadata": {},
   "source": [
    "**Kairav**\n",
    "\n",
    "Senior Data Engineer"
   ]
  },
  {
   "cell_type": "markdown",
   "id": "86146ea3",
   "metadata": {},
   "source": [
    "*I am interested in data science because I can use it to help improve the impact that education will have on lives on students*"
   ]
  },
  {
   "cell_type": "markdown",
   "id": "8efb0d65",
   "metadata": {},
   "source": [
    "### Add two numbers"
   ]
  },
  {
   "cell_type": "code",
   "execution_count": 1,
   "id": "2e10e3ce",
   "metadata": {},
   "outputs": [
    {
     "name": "stdout",
     "output_type": "stream",
     "text": [
      "5\n"
     ]
    }
   ],
   "source": [
    "print(5+0)"
   ]
  },
  {
   "cell_type": "markdown",
   "id": "e9c0ef1c",
   "metadata": {},
   "source": [
    "1. This\n",
    "2. is\n",
    "3. a\n",
    "4. numbered\n",
    "5. List\n",
    "\n",
    "- This\n",
    "- is \n",
    "- a\n",
    "- bulleted\n",
    "- list\n",
    "\n",
    "Use this [search engine](https://www.ecosia.org/)"
   ]
  },
  {
   "cell_type": "code",
   "execution_count": null,
   "id": "0601ff47",
   "metadata": {},
   "outputs": [],
   "source": []
  }
 ],
 "metadata": {
  "kernelspec": {
   "display_name": "Python 3 (ipykernel)",
   "language": "python",
   "name": "python3"
  },
  "language_info": {
   "codemirror_mode": {
    "name": "ipython",
    "version": 3
   },
   "file_extension": ".py",
   "mimetype": "text/x-python",
   "name": "python",
   "nbconvert_exporter": "python",
   "pygments_lexer": "ipython3",
   "version": "3.9.12"
  }
 },
 "nbformat": 4,
 "nbformat_minor": 5
}
